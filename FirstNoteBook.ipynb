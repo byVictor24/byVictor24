{
  "nbformat": 4,
  "nbformat_minor": 0,
  "metadata": {
    "colab": {
      "provenance": [],
      "authorship_tag": "ABX9TyPh49mSCJVk0UA2WHRGcQS8",
      "include_colab_link": true
    },
    "kernelspec": {
      "name": "python3",
      "display_name": "Python 3"
    },
    "language_info": {
      "name": "python"
    }
  },
  "cells": [
    {
      "cell_type": "markdown",
      "metadata": {
        "id": "view-in-github",
        "colab_type": "text"
      },
      "source": [
        "<a href=\"https://colab.research.google.com/github/byVictor24/byVictor24/blob/main/FirstNoteBook.ipynb\" target=\"_parent\"><img src=\"https://colab.research.google.com/assets/colab-badge.svg\" alt=\"Open In Colab\"/></a>"
      ]
    },
    {
      "cell_type": "code",
      "execution_count": null,
      "metadata": {
        "id": "zxpkAsJshnQB",
        "colab": {
          "base_uri": "https://localhost:8080/"
        },
        "outputId": "fb471b50-22b7-4dc0-e162-26624bea006b"
      },
      "outputs": [
        {
          "output_type": "stream",
          "name": "stdout",
          "text": [
            "Hello, WORLD\n"
          ]
        }
      ],
      "source": [
        "print(\"Hello, WORLD\")"
      ]
    },
    {
      "cell_type": "code",
      "source": [
        "print(\"Hello, phyton\")\n",
        "print(\"HELLO WORLD\")"
      ],
      "metadata": {
        "colab": {
          "base_uri": "https://localhost:8080/"
        },
        "id": "4XlauumKkjk3",
        "outputId": "5982747a-ab61-4c93-ab65-09d8e7ba823f"
      },
      "execution_count": null,
      "outputs": [
        {
          "output_type": "stream",
          "name": "stdout",
          "text": [
            "Hello, phyton\n",
            "HELLO WORLD\n"
          ]
        }
      ]
    },
    {
      "cell_type": "code",
      "source": [
        "y=2x+1"
      ],
      "metadata": {
        "colab": {
          "base_uri": "https://localhost:8080/",
          "height": 108
        },
        "id": "ABA0tQoooWiw",
        "outputId": "24cef870-8ce0-4d88-abe2-b84d97aa1753"
      },
      "execution_count": null,
      "outputs": [
        {
          "output_type": "error",
          "ename": "SyntaxError",
          "evalue": "invalid decimal literal (<ipython-input-5-b42f67c87491>, line 1)",
          "traceback": [
            "\u001b[0;36m  File \u001b[0;32m\"<ipython-input-5-b42f67c87491>\"\u001b[0;36m, line \u001b[0;32m1\u001b[0m\n\u001b[0;31m    y=2x+1\u001b[0m\n\u001b[0m      ^\u001b[0m\n\u001b[0;31mSyntaxError\u001b[0m\u001b[0;31m:\u001b[0m invalid decimal literal\n"
          ]
        }
      ]
    },
    {
      "cell_type": "code",
      "source": [
        "# @title\n",
        "$$\n",
        "y=2x+1\n",
        "$$\n"
      ],
      "metadata": {
        "colab": {
          "base_uri": "https://localhost:8080/",
          "height": 108
        },
        "id": "9RejKzBPrrwF",
        "outputId": "79164f03-4a6a-49f8-9398-f854fe0ef7bf"
      },
      "execution_count": null,
      "outputs": [
        {
          "output_type": "error",
          "ename": "SyntaxError",
          "evalue": "invalid decimal literal (<ipython-input-6-b4415d1a663e>, line 2)",
          "traceback": [
            "\u001b[0;36m  File \u001b[0;32m\"<ipython-input-6-b4415d1a663e>\"\u001b[0;36m, line \u001b[0;32m2\u001b[0m\n\u001b[0;31m    y=2x+1\u001b[0m\n\u001b[0m      ^\u001b[0m\n\u001b[0;31mSyntaxError\u001b[0m\u001b[0;31m:\u001b[0m invalid decimal literal\n"
          ]
        }
      ]
    },
    {
      "cell_type": "markdown",
      "source": [],
      "metadata": {
        "id": "UFQq-NT-ocyP"
      }
    },
    {
      "cell_type": "code",
      "source": [
        "num=3+5"
      ],
      "metadata": {
        "id": "yqaUYkE-uqPF"
      },
      "execution_count": null,
      "outputs": []
    },
    {
      "cell_type": "code",
      "source": [
        "num"
      ],
      "metadata": {
        "id": "acI5emwzvObx",
        "outputId": "35902be6-ab99-4ed3-9ac0-9e01b2fd74be",
        "colab": {
          "base_uri": "https://localhost:8080/"
        }
      },
      "execution_count": null,
      "outputs": [
        {
          "output_type": "execute_result",
          "data": {
            "text/plain": [
              "8"
            ]
          },
          "metadata": {},
          "execution_count": 8
        }
      ]
    },
    {
      "cell_type": "code",
      "source": [],
      "metadata": {
        "id": "WhzhOLc9vP3X"
      },
      "execution_count": null,
      "outputs": []
    }
  ]
}